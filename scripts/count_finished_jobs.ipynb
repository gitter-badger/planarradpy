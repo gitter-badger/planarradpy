{
 "cells": [
  {
   "cell_type": "code",
   "execution_count": 42,
   "metadata": {
    "collapsed": false
   },
   "outputs": [
    {
     "name": "stdout",
     "output_type": "stream",
     "text": [
      "0 jobs of 1 completed \n"
     ]
    }
   ],
   "source": [
    "import os\n",
    "\n",
    "#input_directory = '/home/marrabld/Projects/planarradpy/outputs/dan_test_2_delete_me'\n",
    "input_directory = os.getcwd()\n",
    "finished_count = 0\n",
    "\n",
    "# Count the number of total directories\n",
    "dirs = [ name for name in os.listdir(input_directory) if os.path.isdir(os.path.join(input_directory, name)) ]\n",
    "num_dirs = len(dirs)\n",
    "\n",
    "# look in those directories for completed jobs.\n",
    "for directory in dirs:\n",
    "    _dir = os.path.join(input_directory, directory)\n",
    "    if (os.path.isfile(os.path.join(_dir, 'report.txt')) and (os.path.getsize(_dir) > 1)):\n",
    "        finished_count += 1\n",
    "        \n",
    "print_string = (str(finished_count) + ' jobs of ' + str(num_dirs) + ' completed ')\n",
    "print(print_string)\n",
    "f = open('report_count.txt', 'w')\n",
    "f.write(print_string)\n",
    "f.close()\n",
    "    \n"
   ]
  },
  {
   "cell_type": "code",
   "execution_count": 41,
   "metadata": {
    "collapsed": false
   },
   "outputs": [
    {
     "name": "stdout",
     "output_type": "stream",
     "text": [
      "2 jobs of 2 completed "
     ]
    }
   ],
   "source": [
    "!cat report_count.txt\n"
   ]
  }
 ],
 "metadata": {
  "kernelspec": {
   "display_name": "Python 2",
   "name": "python2"
  },
  "language_info": {
   "codemirror_mode": {
    "name": "ipython",
    "version": 2
   },
   "file_extension": ".py",
   "mimetype": "text/x-python",
   "name": "python",
   "nbconvert_exporter": "python",
   "pygments_lexer": "ipython2",
   "version": "2.7.8"
  }
 },
 "nbformat": 4,
 "nbformat_minor": 0
}